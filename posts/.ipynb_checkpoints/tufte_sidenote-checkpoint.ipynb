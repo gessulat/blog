{
 "cells": [
  {
   "cell_type": "raw",
   "id": "934210be-736d-4f94-ac83-2c62e28f6964",
   "metadata": {},
   "source": [
    "---\n",
    "title: \"Sidenotes for Quarto\"\n",
    "author: \"Siegfried Gessulat\"\n",
    "date: \"2025-03-19\"\n",
    "categories: []\n",
    "draft: false\n",
    "format: \n",
    "    html: \n",
    "        code-fold: false\n",
    "keep-ipynb: true\n",
    "---"
   ]
  },
  {
   "cell_type": "markdown",
   "id": "5a461eec-9838-4720-8148-73627fb6c8d5",
   "metadata": {},
   "source": [
    "In his books Edward Tufte heavily annotates his text with sidenotes at the margin. I enjoy this style of writing very much. Markdown and Quarto don't have a native way to support sidenotes, so let's try to implement it!\n",
    "\n",
    "[FastHTML](https://fastht.ml/docs/) is a new Python library from [Answer.AI](https://www.answer.ai/) that makes it easy to generate blocks of HTML. Below is an example that builds a group of html tags that match well to [Tufte CSS](https://edwardtufte.github.io/tufte-css/) by Dave Liepmann."
   ]
  },
  {
   "cell_type": "code",
   "execution_count": 91,
   "id": "7ac71a2f-5579-440b-a68c-694b3ddc750a",
   "metadata": {},
   "outputs": [
    {
     "name": "stdout",
     "output_type": "stream",
     "text": [
      "<label for=\"sn-36715\" class=\"margin-toggle sidenote-number\"></label><input type=\"checkbox\" id=\"sn-36715\" class=\"margin-toggle\" name=\"sn-36715\">\n",
      "<span class=\"sidenote\">i am a sidenote</span>\n"
     ]
    }
   ],
   "source": [
    "from fasthtml.common import Label, Input, Span, FT\n",
    "from fasthtml.common import *\n",
    "\n",
    "def sidenote(ct, _id=None):\n",
    "    _id = _id or f\"sn{str(hash(str(ct)))[:6]}\"\n",
    "    c = (\n",
    "        Label(cls='margin-toggle sidenote-number', **{'for': _id}),\n",
    "        Input(type='checkbox', id=_id, cls='margin-toggle'),\n",
    "        Span(*ct, cls='sidenote')\n",
    "    )\n",
    "    return \"\".join(x.__html__() for x in c)\n",
    "\n",
    "print(sidenote('i am a sidenote'))"
   ]
  },
  {
   "cell_type": "markdown",
   "id": "06c20106-ad35-4a1c-8c31-d89b41bb9d9a",
   "metadata": {},
   "source": [
    "How can we use this function now inside our Markdown blog? Quarto can render functions but the way Claude recommended was not particularly convenient. What we can do instead is to generate a full html string and output that `asis` - this will be rendered nicely by Quarto. We need to prepend the code cell that uses this with \n",
    "\n",
    "```\n",
    "#| echo: true\n",
    "#| output: asis\n",
    "```"
   ]
  },
  {
   "cell_type": "code",
   "execution_count": 92,
   "id": "5aa58af9-875e-456f-8ddc-4989cf994feb",
   "metadata": {},
   "outputs": [],
   "source": [
    "def html(md):\n",
    "    _html = \"{=html}\"\n",
    "    print(f\"\"\"```{_html}\\n{md}```\"\"\")"
   ]
  },
  {
   "cell_type": "code",
   "execution_count": 96,
   "id": "13c06504-d5cc-4d7e-8e77-fb6a69c10822",
   "metadata": {},
   "outputs": [
    {
     "name": "stdout",
     "output_type": "stream",
     "text": [
      "```{=html}\n",
      "\n",
      "\n",
      "Lorem ipsum dolor sit amet, consectetur adipiscing elit, sed do eiusmod tempor incididunt ut labore et dolore magna aliqua. \n",
      "Ut enim ad minim veniam, quis nostrud exercitation ullamco laboris nisi ut aliquip ex ea commodo consequat. \n",
      "Duis aute irure dolor in reprehenderit in voluptate velit esse cillum dolore eu fugiat nulla pariatur. \n",
      "Excepteur sint occaecat cupidatat non proident, sunt in culpa qui officia deserunt mollit anim id est laborum\n",
      "\n",
      "This is a second test for a sidenote.<label for=\"sn373670\" class=\"margin-toggle sidenote-number\"></label><input type=\"checkbox\" id=\"sn373670\" class=\"margin-toggle\" name=\"sn373670\">\n",
      "<span class=\"sidenote\">I am the postman! I am the walrus! I am the sidenote! Ta da da da.</span>\n",
      "\n",
      "Lorem ipsum dolor sit amet, consectetur adipiscing elit, \n",
      "sed do eiusmod tempor incididunt ut labore et dolore magna aliqua. \n",
      "Ut enim ad minim veniam, quis nostrud exercitation ullamco laboris nisi ut aliquip ex ea commodo consequat. \n",
      "Duis aute irure dolor in reprehenderit in voluptate velit esse cillum dolore eu fugiat nulla pariatur. \n",
      "Excepteur sint occaecat cupidatat non proident, sunt in culpa qui officia deserunt mollit anim id est laborum\n",
      "```\n"
     ]
    }
   ],
   "source": [
    "#| echo: true\n",
    "#| output: asis\n",
    "\n",
    "html(f\"\"\"\n",
    "\n",
    "Lorem ipsum dolor sit amet, consectetur adipiscing elit, sed do eiusmod tempor incididunt ut labore et dolore magna aliqua. \n",
    "Ut enim ad minim veniam, quis nostrud exercitation ullamco laboris nisi ut aliquip ex ea commodo consequat. \n",
    "Duis aute irure dolor in reprehenderit in voluptate velit esse cillum dolore eu fugiat nulla pariatur. \n",
    "Excepteur sint occaecat cupidatat non proident, sunt in culpa qui officia deserunt mollit anim id est laborum\n",
    "\n",
    "This is a second test for a sidenote.{sidenote('I am the postman! I am the walrus! I am the sidenote! Ta da da da.')}\n",
    "\n",
    "Lorem ipsum dolor sit amet, consectetur adipiscing elit, \n",
    "sed do eiusmod tempor incididunt ut labore et dolore magna aliqua. \n",
    "Ut enim ad minim veniam, quis nostrud exercitation ullamco laboris nisi ut aliquip ex ea commodo consequat. \n",
    "Duis aute irure dolor in reprehenderit in voluptate velit esse cillum dolore eu fugiat nulla pariatur. \n",
    "Excepteur sint occaecat cupidatat non proident, sunt in culpa qui officia deserunt mollit anim id est laborum\n",
    "\"\"\")"
   ]
  },
  {
   "cell_type": "code",
   "execution_count": null,
   "id": "2e673d18-eef3-4e91-82b8-fcfeed0d5818",
   "metadata": {},
   "outputs": [],
   "source": []
  },
  {
   "cell_type": "code",
   "execution_count": null,
   "id": "2748470d-9f9b-43f8-bcc1-0c06df341854",
   "metadata": {},
   "outputs": [],
   "source": []
  }
 ],
 "metadata": {
  "kernelspec": {
   "display_name": "Python 3 (ipykernel)",
   "language": "python",
   "name": "python3"
  },
  "language_info": {
   "codemirror_mode": {
    "name": "ipython",
    "version": 3
   },
   "file_extension": ".py",
   "mimetype": "text/x-python",
   "name": "python",
   "nbconvert_exporter": "python",
   "pygments_lexer": "ipython3",
   "version": "3.12.5"
  }
 },
 "nbformat": 4,
 "nbformat_minor": 5
}
